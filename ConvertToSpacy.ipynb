{
 "cells": [
  {
   "cell_type": "code",
   "execution_count": 2,
   "id": "9326b615",
   "metadata": {},
   "outputs": [],
   "source": [
    "import json\n",
    "import warnings as war\n",
    "import re"
   ]
  },
  {
   "cell_type": "code",
   "execution_count": 3,
   "id": "3f8dfe52",
   "metadata": {},
   "outputs": [
    {
     "name": "stdout",
     "output_type": "stream",
     "text": [
      "Enter your train data filename(json) : DATA.json\n",
      "DATA.json\n"
     ]
    }
   ],
   "source": [
    "filename = input(\"Enter your train data filename(json) : \")\n",
    "print(filename)"
   ]
  },
  {
   "cell_type": "code",
   "execution_count": 4,
   "id": "503f98e4",
   "metadata": {},
   "outputs": [
    {
     "name": "stdout",
     "output_type": "stream",
     "text": [
      "[INFO] Stored the spacy training data and  filename is DATA.txt\n"
     ]
    }
   ],
   "source": [
    "with open(filename,encoding='utf_8') as train_data:\n",
    "    train = json.load(train_data)\n",
    "\n",
    "TRAIN_DATA = []\n",
    "for data in train:\n",
    "    ents = [tuple(entity[:3]) for entity in data['entities']]\n",
    "    TRAIN_DATA.append((data['content'],{'entities':ents}))\n",
    "\n",
    "\n",
    "with open('{}'.format(filename.replace('json','txt')),'w',encoding='utf_8') as write:\n",
    "    write.write(str(TRAIN_DATA))\n",
    "\n",
    "print(\"[INFO] Stored the spacy training data and  filename is {}\".format(filename.replace('json','txt')))"
   ]
  },
  {
   "cell_type": "code",
   "execution_count": null,
   "id": "e28eef9f",
   "metadata": {},
   "outputs": [],
   "source": []
  }
 ],
 "metadata": {
  "kernelspec": {
   "display_name": "Python 3",
   "language": "python",
   "name": "python3"
  },
  "language_info": {
   "codemirror_mode": {
    "name": "ipython",
    "version": 3
   },
   "file_extension": ".py",
   "mimetype": "text/x-python",
   "name": "python",
   "nbconvert_exporter": "python",
   "pygments_lexer": "ipython3",
   "version": "3.6.13"
  }
 },
 "nbformat": 4,
 "nbformat_minor": 5
}
